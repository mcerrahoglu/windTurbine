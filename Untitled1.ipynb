{
 "cells": [
  {
   "cell_type": "code",
   "execution_count": null,
   "id": "9e3bb478-cfa6-4db4-ba19-6aef31ff2bb5",
   "metadata": {},
   "outputs": [
    {
     "name": "stderr",
     "output_type": "stream",
     "text": [
      "2025-05-23 13:58:48.472108: E external/local_xla/xla/stream_executor/cuda/cuda_fft.cc:467] Unable to register cuFFT factory: Attempting to register factory for plugin cuFFT when one has already been registered\n",
      "WARNING: All log messages before absl::InitializeLog() is called are written to STDERR\n",
      "E0000 00:00:1748008728.485807   15076 cuda_dnn.cc:8579] Unable to register cuDNN factory: Attempting to register factory for plugin cuDNN when one has already been registered\n",
      "E0000 00:00:1748008728.490294   15076 cuda_blas.cc:1407] Unable to register cuBLAS factory: Attempting to register factory for plugin cuBLAS when one has already been registered\n",
      "W0000 00:00:1748008728.502019   15076 computation_placer.cc:177] computation placer already registered. Please check linkage and avoid linking the same target more than once.\n",
      "W0000 00:00:1748008728.502031   15076 computation_placer.cc:177] computation placer already registered. Please check linkage and avoid linking the same target more than once.\n",
      "W0000 00:00:1748008728.502033   15076 computation_placer.cc:177] computation placer already registered. Please check linkage and avoid linking the same target more than once.\n",
      "W0000 00:00:1748008728.502035   15076 computation_placer.cc:177] computation placer already registered. Please check linkage and avoid linking the same target more than once.\n",
      "2025-05-23 13:58:48.506138: I tensorflow/core/platform/cpu_feature_guard.cc:210] This TensorFlow binary is optimized to use available CPU instructions in performance-critical operations.\n",
      "To enable the following instructions: AVX2 FMA, in other operations, rebuild TensorFlow with the appropriate compiler flags.\n"
     ]
    }
   ],
   "source": [
    "import pandas as pd\n",
    "import numpy as np\n",
    "from scipy import stats\n",
    "from sklearn.preprocessing import RobustScaler\n",
    "from sklearn.model_selection import train_test_split\n",
    "from sklearn.metrics import r2_score\n",
    "from tensorflow.keras.models import Sequential\n",
    "from tensorflow.keras.layers import LSTM, Dense, Dropout, BatchNormalization\n",
    "from tensorflow.keras.optimizers import Nadam\n",
    "from tensorflow.keras.callbacks import EarlyStopping, ReduceLROnPlateau"
   ]
  },
  {
   "cell_type": "code",
   "execution_count": null,
   "id": "57672cfb-3197-4233-886f-6f340e9c17ca",
   "metadata": {},
   "outputs": [],
   "source": [
    "df = pd.read_csv('toplam_ksba.csv', parse_dates=['Date_Time'], index_col='Date_Time')"
   ]
  },
  {
   "cell_type": "code",
   "execution_count": 3,
   "id": "4c0e912e-11b5-4aa3-9595-efe123c7ad0a",
   "metadata": {},
   "outputs": [
    {
     "name": "stdout",
     "output_type": "stream",
     "text": [
      "Toplam NaN sayısı: 13620644\n"
     ]
    }
   ],
   "source": [
    "print(\"Toplam NaN sayısı:\", df.isnull().sum().sum())"
   ]
  },
  {
   "cell_type": "code",
   "execution_count": 4,
   "id": "f283ada2-c845-4bf5-908f-ba9e04b4008c",
   "metadata": {},
   "outputs": [
    {
     "name": "stdout",
     "output_type": "stream",
     "text": [
      "metar_remark_set_1                100.000000\n",
      "cloud_layer_3_set_1d              100.000000\n",
      "wind_chill_set_1d                 100.000000\n",
      "cloud_layer_2_set_1d              100.000000\n",
      "cloud_layer_1_set_1d              100.000000\n",
      "pressure_change_code_set_1         99.986223\n",
      "precip_accum_24_hour_set_1         99.968589\n",
      "precip_accum_three_hour_set_1      99.923768\n",
      "peak_wind_speed_set_1              99.908889\n",
      "peak_wind_direction_set_1          99.908889\n",
      "precip_accum_six_hour_set_1        99.899337\n",
      "air_temp_low_24_hour_set_1         99.673395\n",
      "air_temp_high_24_hour_set_1        99.673395\n",
      "heat_index_set_1d                  98.976835\n",
      "air_temp_low_6_hour_set_1          98.690826\n",
      "air_temp_high_6_hour_set_1         98.690826\n",
      "wind_gust_set_1                    98.551955\n",
      "precip_accum_one_hour_set_1        98.036514\n",
      "cloud_layer_3_code_set_1           98.022554\n",
      "pressure_tendency_set_1            97.387714\n",
      "cloud_layer_2_code_set_1           92.977264\n",
      "sea_level_pressure_set_1           92.147159\n",
      "dew_point_temperature_set_1        90.940302\n",
      "weather_condition_set_1d           82.193248\n",
      "weather_cond_code_set_1            82.193248\n",
      "ceiling_set_1                      71.893076\n",
      "wind_direction_set_1                0.512869\n",
      "wind_cardinal_direction_set_1d      0.512869\n",
      "wind_speed_set_1                    0.250005\n",
      "cloud_layer_1_code_set_1            0.218594\n",
      "weather_summary_set_1d              0.200224\n",
      "sea_level_pressure_set_1d           0.179467\n",
      "relative_humidity_set_1             0.145668\n",
      "dew_point_temperature_set_1d        0.145668\n",
      "air_temp_set_1                      0.061904\n",
      "visibility_set_1                    0.050148\n",
      "altimeter_set_1                     0.041698\n",
      "pressure_set_1d                     0.041698\n",
      "metar_set_1                         0.000918\n",
      "Station_ID                          0.000000\n",
      "dtype: float64\n"
     ]
    }
   ],
   "source": [
    "nan_ratio = df.isnull().sum() / len(df) * 100\n",
    "print(nan_ratio.sort_values(ascending=False))"
   ]
  },
  {
   "cell_type": "code",
   "execution_count": null,
   "id": "daf11fb4-a4d9-4186-bb8a-bbd9e991c86e",
   "metadata": {},
   "outputs": [],
   "source": [
    "drop_columns = [\n",
    "'metar_remark_set_1',\n",
    "'cloud_layer_3_set_1d',\n",
    "'wind_chill_set_1d',               \n",
    "'cloud_layer_2_set_1d',           \n",
    "'cloud_layer_1_set_1d',           \n",
    "'pressure_change_code_set_1',       \n",
    "'precip_accum_24_hour_set_1',        \n",
    "'precip_accum_three_hour_set_1',      \n",
    "'peak_wind_speed_set_1',             \n",
    "'peak_wind_direction_set_1',          \n",
    "'precip_accum_six_hour_set_1',    \n",
    "'air_temp_low_24_hour_set_1',        \n",
    "'air_temp_high_24_hour_set_1',        \n",
    "'heat_index_set_1d',                 \n",
    "'air_temp_low_6_hour_set_1',         \n",
    "'air_temp_high_6_hour_set_1',         \n",
    "'wind_gust_set_1',                   \n",
    "'precip_accum_one_hour_set_1',       \n",
    "'cloud_layer_3_code_set_1',           \n",
    "'pressure_tendency_set_1',          \n",
    "'cloud_layer_2_code_set_1',        \n",
    "'sea_level_pressure_set_1',        \n",
    "'dew_point_temperature_set_1',      \n",
    "'weather_condition_set_1d',          \n",
    "'weather_cond_code_set_1',           \n",
    "'ceiling_set_1'                      \n",
    "\n",
    "]\n",
    "df = df.drop(columns=drop_columns)"
   ]
  },
  {
   "cell_type": "code",
   "execution_count": 6,
   "id": "a42cb488-0f52-4549-b4cb-2368144b905e",
   "metadata": {},
   "outputs": [
    {
     "name": "stdout",
     "output_type": "stream",
     "text": [
      "Toplam NaN sayısı: 12857\n"
     ]
    }
   ],
   "source": [
    "print(\"Toplam NaN sayısı:\", df.isnull().sum().sum())"
   ]
  },
  {
   "cell_type": "code",
   "execution_count": 7,
   "id": "45ba7633-9794-4eee-b458-c71a448973ba",
   "metadata": {},
   "outputs": [
    {
     "name": "stdout",
     "output_type": "stream",
     "text": [
      "wind_direction_set_1              0.512869\n",
      "wind_cardinal_direction_set_1d    0.512869\n",
      "wind_speed_set_1                  0.250005\n",
      "cloud_layer_1_code_set_1          0.218594\n",
      "weather_summary_set_1d            0.200224\n",
      "sea_level_pressure_set_1d         0.179467\n",
      "relative_humidity_set_1           0.145668\n",
      "dew_point_temperature_set_1d      0.145668\n",
      "air_temp_set_1                    0.061904\n",
      "visibility_set_1                  0.050148\n",
      "altimeter_set_1                   0.041698\n",
      "pressure_set_1d                   0.041698\n",
      "metar_set_1                       0.000918\n",
      "Station_ID                        0.000000\n",
      "dtype: float64\n"
     ]
    }
   ],
   "source": [
    "nan_ratio = df.isnull().sum() / len(df) * 100\n",
    "print(nan_ratio.sort_values(ascending=False))"
   ]
  },
  {
   "cell_type": "code",
   "execution_count": null,
   "id": "f03179d1-b65a-4059-996e-eb25a2e62265",
   "metadata": {},
   "outputs": [],
   "source": [
    "target = 'air_temp_set_1'\n",
    "features = [\n",
    "    'dew_point_temperature_set_1d', 'wind_speed_set_1',\n",
    "    'relative_humidity_set_1', 'altimeter_set_1',\n",
    "    'visibility_set_1', 'wind_direction_set_1'\n",
    "]\n",
    "df = df[[target] + features]"
   ]
  },
  {
   "cell_type": "code",
   "execution_count": 10,
   "id": "c30eee32-bee9-4bf0-b1ab-7a3f52388549",
   "metadata": {},
   "outputs": [
    {
     "name": "stdout",
     "output_type": "stream",
     "text": [
      "Toplam NaN sayısı: 6576\n"
     ]
    }
   ],
   "source": [
    "print(\"Toplam NaN sayısı:\", df.isnull().sum().sum())"
   ]
  },
  {
   "cell_type": "code",
   "execution_count": null,
   "id": "dab9a0dd-921a-4a63-84c5-7cc3ff02f554",
   "metadata": {},
   "outputs": [
    {
     "name": "stderr",
     "output_type": "stream",
     "text": [
      "/tmp/ipykernel_15076/109565934.py:3: SettingWithCopyWarning: \n",
      "A value is trying to be set on a copy of a slice from a DataFrame\n",
      "\n",
      "See the caveats in the documentation: https://pandas.pydata.org/pandas-docs/stable/user_guide/indexing.html#returning-a-view-versus-a-copy\n",
      "  df.interpolate(method='time', limit_direction='both', inplace=True)\n",
      "/tmp/ipykernel_15076/109565934.py:7: SettingWithCopyWarning: \n",
      "A value is trying to be set on a copy of a slice from a DataFrame\n",
      "\n",
      "See the caveats in the documentation: https://pandas.pydata.org/pandas-docs/stable/user_guide/indexing.html#returning-a-view-versus-a-copy\n",
      "  df[col].fillna(df[col].median(), inplace=True)\n",
      "/tmp/ipykernel_15076/109565934.py:7: SettingWithCopyWarning: \n",
      "A value is trying to be set on a copy of a slice from a DataFrame\n",
      "\n",
      "See the caveats in the documentation: https://pandas.pydata.org/pandas-docs/stable/user_guide/indexing.html#returning-a-view-versus-a-copy\n",
      "  df[col].fillna(df[col].median(), inplace=True)\n",
      "/tmp/ipykernel_15076/109565934.py:7: SettingWithCopyWarning: \n",
      "A value is trying to be set on a copy of a slice from a DataFrame\n",
      "\n",
      "See the caveats in the documentation: https://pandas.pydata.org/pandas-docs/stable/user_guide/indexing.html#returning-a-view-versus-a-copy\n",
      "  df[col].fillna(df[col].median(), inplace=True)\n",
      "/tmp/ipykernel_15076/109565934.py:7: SettingWithCopyWarning: \n",
      "A value is trying to be set on a copy of a slice from a DataFrame\n",
      "\n",
      "See the caveats in the documentation: https://pandas.pydata.org/pandas-docs/stable/user_guide/indexing.html#returning-a-view-versus-a-copy\n",
      "  df[col].fillna(df[col].median(), inplace=True)\n",
      "/tmp/ipykernel_15076/109565934.py:7: SettingWithCopyWarning: \n",
      "A value is trying to be set on a copy of a slice from a DataFrame\n",
      "\n",
      "See the caveats in the documentation: https://pandas.pydata.org/pandas-docs/stable/user_guide/indexing.html#returning-a-view-versus-a-copy\n",
      "  df[col].fillna(df[col].median(), inplace=True)\n",
      "/tmp/ipykernel_15076/109565934.py:7: SettingWithCopyWarning: \n",
      "A value is trying to be set on a copy of a slice from a DataFrame\n",
      "\n",
      "See the caveats in the documentation: https://pandas.pydata.org/pandas-docs/stable/user_guide/indexing.html#returning-a-view-versus-a-copy\n",
      "  df[col].fillna(df[col].median(), inplace=True)\n",
      "/tmp/ipykernel_15076/109565934.py:7: SettingWithCopyWarning: \n",
      "A value is trying to be set on a copy of a slice from a DataFrame\n",
      "\n",
      "See the caveats in the documentation: https://pandas.pydata.org/pandas-docs/stable/user_guide/indexing.html#returning-a-view-versus-a-copy\n",
      "  df[col].fillna(df[col].median(), inplace=True)\n"
     ]
    }
   ],
   "source": [
    "df.interpolate(method='time', limit_direction='both', inplace=True)\n",
    "\n",
    "\n",
    "for col in df.columns:\n",
    "    df[col].fillna(df[col].median(), inplace=True)"
   ]
  },
  {
   "cell_type": "code",
   "execution_count": 12,
   "id": "f787da46-88b7-465e-a9f4-94c9bb875692",
   "metadata": {},
   "outputs": [
    {
     "name": "stdout",
     "output_type": "stream",
     "text": [
      "Toplam NaN sayısı: 0\n"
     ]
    }
   ],
   "source": [
    "print(\"Toplam NaN sayısı:\", df.isnull().sum().sum())"
   ]
  },
  {
   "cell_type": "code",
   "execution_count": null,
   "id": "fe24cb4d-874d-45f5-b3c7-ac6db3ca9969",
   "metadata": {},
   "outputs": [],
   "source": [
    "continuous_cols = ['wind_speed_set_1', 'visibility_set_1']\n",
    "for col in continuous_cols:\n",
    "    df = df[(np.abs(stats.zscore(df[col])) < 3)]"
   ]
  },
  {
   "cell_type": "code",
   "execution_count": null,
   "id": "0a38bf50-30c5-4bb2-b95b-307913c3145a",
   "metadata": {},
   "outputs": [],
   "source": [
    "scaler = RobustScaler()\n",
    "scaled_data = scaler.fit_transform(df)"
   ]
  },
  {
   "cell_type": "code",
   "execution_count": null,
   "id": "695c774a-efd1-4ca2-8f90-341f9b2ade65",
   "metadata": {},
   "outputs": [],
   "source": [
    "def create_sequences(data, look_back=6):\n",
    "    X, y = [], []\n",
    "    for i in range(len(data)-look_back):\n",
    "        X.append(data[i:i+look_back])\n",
    "        y.append(data[i+look_back, df.columns.get_loc(target)])\n",
    "    return np.array(X), np.array(y)\n",
    "\n",
    "look_back = 6  \n",
    "X, y = create_sequences(scaled_data, look_back)"
   ]
  },
  {
   "cell_type": "code",
   "execution_count": null,
   "id": "b9cc7898-8427-4af8-9019-3937349b4512",
   "metadata": {},
   "outputs": [],
   "source": [
    "X_train, X_test, y_train, y_test = train_test_split(\n",
    "    X, y, test_size=0.2, shuffle=False)"
   ]
  },
  {
   "cell_type": "code",
   "execution_count": null,
   "id": "ebad10c9-bbcf-4347-83bc-1da6ae623ebe",
   "metadata": {},
   "outputs": [],
   "source": [
    "model = Sequential()\n",
    "model.add(LSTM(64, input_shape=(look_back, X.shape[2]), return_sequences=True))\n",
    "model.add(BatchNormalization())\n",
    "model.add(Dropout(0.3))\n",
    "model.add(LSTM(32))\n",
    "model.add(Dense(16, activation='relu'))\n",
    "model.add(Dense(1))"
   ]
  },
  {
   "cell_type": "code",
   "execution_count": null,
   "id": "e657e6d9-1db8-4f63-8b6e-b61c858bdd51",
   "metadata": {},
   "outputs": [],
   "source": [
    "from tensorflow.keras.losses import Huber  \n",
    "\n",
    "optimizer = Nadam(learning_rate=0.0005, clipnorm=1.2)\n",
    "model.compile(loss=Huber(), optimizer=optimizer)  "
   ]
  },
  {
   "cell_type": "code",
   "execution_count": null,
   "id": "e580f6cc-c6bb-4994-a138-531ba166e07e",
   "metadata": {},
   "outputs": [
    {
     "name": "stdout",
     "output_type": "stream",
     "text": [
      "Epoch 1/200\n"
     ]
    },
    {
     "name": "stderr",
     "output_type": "stream",
     "text": [
      "I0000 00:00:1748008988.917246   16848 cuda_dnn.cc:529] Loaded cuDNN version 90701\n"
     ]
    },
    {
     "name": "stdout",
     "output_type": "stream",
     "text": [
      "\u001b[1m2597/2597\u001b[0m \u001b[32m━━━━━━━━━━━━━━━━━━━━\u001b[0m\u001b[37m\u001b[0m \u001b[1m18s\u001b[0m 5ms/step - loss: 0.0291 - val_loss: 0.0057 - learning_rate: 5.0000e-04\n",
      "Epoch 2/200\n",
      "\u001b[1m2597/2597\u001b[0m \u001b[32m━━━━━━━━━━━━━━━━━━━━\u001b[0m\u001b[37m\u001b[0m \u001b[1m14s\u001b[0m 5ms/step - loss: 0.0092 - val_loss: 0.0052 - learning_rate: 5.0000e-04\n",
      "Epoch 3/200\n",
      "\u001b[1m2597/2597\u001b[0m \u001b[32m━━━━━━━━━━━━━━━━━━━━\u001b[0m\u001b[37m\u001b[0m \u001b[1m14s\u001b[0m 5ms/step - loss: 0.0076 - val_loss: 0.0047 - learning_rate: 5.0000e-04\n",
      "Epoch 4/200\n",
      "\u001b[1m2597/2597\u001b[0m \u001b[32m━━━━━━━━━━━━━━━━━━━━\u001b[0m\u001b[37m\u001b[0m \u001b[1m14s\u001b[0m 5ms/step - loss: 0.0069 - val_loss: 0.0046 - learning_rate: 5.0000e-04\n",
      "Epoch 5/200\n",
      "\u001b[1m2597/2597\u001b[0m \u001b[32m━━━━━━━━━━━━━━━━━━━━\u001b[0m\u001b[37m\u001b[0m \u001b[1m14s\u001b[0m 5ms/step - loss: 0.0064 - val_loss: 0.0044 - learning_rate: 5.0000e-04\n",
      "Epoch 6/200\n",
      "\u001b[1m2597/2597\u001b[0m \u001b[32m━━━━━━━━━━━━━━━━━━━━\u001b[0m\u001b[37m\u001b[0m \u001b[1m14s\u001b[0m 5ms/step - loss: 0.0062 - val_loss: 0.0047 - learning_rate: 5.0000e-04\n",
      "Epoch 7/200\n",
      "\u001b[1m2597/2597\u001b[0m \u001b[32m━━━━━━━━━━━━━━━━━━━━\u001b[0m\u001b[37m\u001b[0m \u001b[1m14s\u001b[0m 5ms/step - loss: 0.0060 - val_loss: 0.0045 - learning_rate: 5.0000e-04\n",
      "Epoch 8/200\n",
      "\u001b[1m2597/2597\u001b[0m \u001b[32m━━━━━━━━━━━━━━━━━━━━\u001b[0m\u001b[37m\u001b[0m \u001b[1m14s\u001b[0m 5ms/step - loss: 0.0059 - val_loss: 0.0045 - learning_rate: 5.0000e-04\n",
      "Epoch 9/200\n",
      "\u001b[1m2597/2597\u001b[0m \u001b[32m━━━━━━━━━━━━━━━━━━━━\u001b[0m\u001b[37m\u001b[0m \u001b[1m14s\u001b[0m 5ms/step - loss: 0.0059 - val_loss: 0.0046 - learning_rate: 5.0000e-04\n",
      "Epoch 10/200\n",
      "\u001b[1m2597/2597\u001b[0m \u001b[32m━━━━━━━━━━━━━━━━━━━━\u001b[0m\u001b[37m\u001b[0m \u001b[1m14s\u001b[0m 5ms/step - loss: 0.0057 - val_loss: 0.0047 - learning_rate: 5.0000e-04\n",
      "Epoch 11/200\n",
      "\u001b[1m2597/2597\u001b[0m \u001b[32m━━━━━━━━━━━━━━━━━━━━\u001b[0m\u001b[37m\u001b[0m \u001b[1m14s\u001b[0m 5ms/step - loss: 0.0057 - val_loss: 0.0044 - learning_rate: 5.0000e-04\n",
      "Epoch 12/200\n",
      "\u001b[1m2597/2597\u001b[0m \u001b[32m━━━━━━━━━━━━━━━━━━━━\u001b[0m\u001b[37m\u001b[0m \u001b[1m14s\u001b[0m 5ms/step - loss: 0.0056 - val_loss: 0.0043 - learning_rate: 5.0000e-04\n",
      "Epoch 13/200\n",
      "\u001b[1m2597/2597\u001b[0m \u001b[32m━━━━━━━━━━━━━━━━━━━━\u001b[0m\u001b[37m\u001b[0m \u001b[1m14s\u001b[0m 5ms/step - loss: 0.0056 - val_loss: 0.0044 - learning_rate: 5.0000e-04\n",
      "Epoch 14/200\n",
      "\u001b[1m2597/2597\u001b[0m \u001b[32m━━━━━━━━━━━━━━━━━━━━\u001b[0m\u001b[37m\u001b[0m \u001b[1m14s\u001b[0m 5ms/step - loss: 0.0055 - val_loss: 0.0043 - learning_rate: 5.0000e-04\n",
      "Epoch 15/200\n",
      "\u001b[1m2597/2597\u001b[0m \u001b[32m━━━━━━━━━━━━━━━━━━━━\u001b[0m\u001b[37m\u001b[0m \u001b[1m14s\u001b[0m 5ms/step - loss: 0.0055 - val_loss: 0.0043 - learning_rate: 5.0000e-04\n",
      "Epoch 16/200\n",
      "\u001b[1m2597/2597\u001b[0m \u001b[32m━━━━━━━━━━━━━━━━━━━━\u001b[0m\u001b[37m\u001b[0m \u001b[1m14s\u001b[0m 5ms/step - loss: 0.0055 - val_loss: 0.0043 - learning_rate: 5.0000e-04\n",
      "Epoch 17/200\n",
      "\u001b[1m2597/2597\u001b[0m \u001b[32m━━━━━━━━━━━━━━━━━━━━\u001b[0m\u001b[37m\u001b[0m \u001b[1m14s\u001b[0m 5ms/step - loss: 0.0054 - val_loss: 0.0043 - learning_rate: 5.0000e-04\n",
      "Epoch 18/200\n",
      "\u001b[1m2597/2597\u001b[0m \u001b[32m━━━━━━━━━━━━━━━━━━━━\u001b[0m\u001b[37m\u001b[0m \u001b[1m14s\u001b[0m 5ms/step - loss: 0.0055 - val_loss: 0.0042 - learning_rate: 5.0000e-04\n",
      "Epoch 19/200\n",
      "\u001b[1m2597/2597\u001b[0m \u001b[32m━━━━━━━━━━━━━━━━━━━━\u001b[0m\u001b[37m\u001b[0m \u001b[1m14s\u001b[0m 5ms/step - loss: 0.0054 - val_loss: 0.0043 - learning_rate: 5.0000e-04\n",
      "Epoch 20/200\n",
      "\u001b[1m2597/2597\u001b[0m \u001b[32m━━━━━━━━━━━━━━━━━━━━\u001b[0m\u001b[37m\u001b[0m \u001b[1m14s\u001b[0m 5ms/step - loss: 0.0054 - val_loss: 0.0042 - learning_rate: 5.0000e-04\n",
      "Epoch 21/200\n",
      "\u001b[1m2597/2597\u001b[0m \u001b[32m━━━━━━━━━━━━━━━━━━━━\u001b[0m\u001b[37m\u001b[0m \u001b[1m14s\u001b[0m 5ms/step - loss: 0.0053 - val_loss: 0.0041 - learning_rate: 5.0000e-04\n",
      "Epoch 22/200\n",
      "\u001b[1m2597/2597\u001b[0m \u001b[32m━━━━━━━━━━━━━━━━━━━━\u001b[0m\u001b[37m\u001b[0m \u001b[1m14s\u001b[0m 5ms/step - loss: 0.0053 - val_loss: 0.0042 - learning_rate: 5.0000e-04\n",
      "Epoch 23/200\n",
      "\u001b[1m2597/2597\u001b[0m \u001b[32m━━━━━━━━━━━━━━━━━━━━\u001b[0m\u001b[37m\u001b[0m \u001b[1m14s\u001b[0m 5ms/step - loss: 0.0054 - val_loss: 0.0042 - learning_rate: 5.0000e-04\n",
      "Epoch 24/200\n",
      "\u001b[1m2597/2597\u001b[0m \u001b[32m━━━━━━━━━━━━━━━━━━━━\u001b[0m\u001b[37m\u001b[0m \u001b[1m14s\u001b[0m 5ms/step - loss: 0.0053 - val_loss: 0.0042 - learning_rate: 5.0000e-04\n",
      "Epoch 25/200\n",
      "\u001b[1m2597/2597\u001b[0m \u001b[32m━━━━━━━━━━━━━━━━━━━━\u001b[0m\u001b[37m\u001b[0m \u001b[1m14s\u001b[0m 5ms/step - loss: 0.0054 - val_loss: 0.0042 - learning_rate: 5.0000e-04\n",
      "Epoch 26/200\n",
      "\u001b[1m2597/2597\u001b[0m \u001b[32m━━━━━━━━━━━━━━━━━━━━\u001b[0m\u001b[37m\u001b[0m \u001b[1m14s\u001b[0m 5ms/step - loss: 0.0053 - val_loss: 0.0043 - learning_rate: 5.0000e-04\n",
      "Epoch 27/200\n",
      "\u001b[1m2597/2597\u001b[0m \u001b[32m━━━━━━━━━━━━━━━━━━━━\u001b[0m\u001b[37m\u001b[0m \u001b[1m14s\u001b[0m 5ms/step - loss: 0.0053 - val_loss: 0.0043 - learning_rate: 5.0000e-04\n",
      "Epoch 28/200\n",
      "\u001b[1m2597/2597\u001b[0m \u001b[32m━━━━━━━━━━━━━━━━━━━━\u001b[0m\u001b[37m\u001b[0m \u001b[1m14s\u001b[0m 5ms/step - loss: 0.0053 - val_loss: 0.0042 - learning_rate: 5.0000e-04\n",
      "Epoch 29/200\n",
      "\u001b[1m2597/2597\u001b[0m \u001b[32m━━━━━━━━━━━━━━━━━━━━\u001b[0m\u001b[37m\u001b[0m \u001b[1m14s\u001b[0m 5ms/step - loss: 0.0053 - val_loss: 0.0043 - learning_rate: 5.0000e-04\n",
      "Epoch 30/200\n",
      "\u001b[1m2597/2597\u001b[0m \u001b[32m━━━━━━━━━━━━━━━━━━━━\u001b[0m\u001b[37m\u001b[0m \u001b[1m14s\u001b[0m 5ms/step - loss: 0.0053 - val_loss: 0.0042 - learning_rate: 5.0000e-04\n",
      "Epoch 31/200\n",
      "\u001b[1m2593/2597\u001b[0m \u001b[32m━━━━━━━━━━━━━━━━━━━\u001b[0m\u001b[37m━\u001b[0m \u001b[1m0s\u001b[0m 5ms/step - loss: 0.0053\n",
      "Epoch 31: ReduceLROnPlateau reducing learning rate to 0.0002500000118743628.\n",
      "\u001b[1m2597/2597\u001b[0m \u001b[32m━━━━━━━━━━━━━━━━━━━━\u001b[0m\u001b[37m\u001b[0m \u001b[1m14s\u001b[0m 5ms/step - loss: 0.0053 - val_loss: 0.0043 - learning_rate: 5.0000e-04\n",
      "Epoch 32/200\n",
      "\u001b[1m2597/2597\u001b[0m \u001b[32m━━━━━━━━━━━━━━━━━━━━\u001b[0m\u001b[37m\u001b[0m \u001b[1m14s\u001b[0m 5ms/step - loss: 0.0052 - val_loss: 0.0042 - learning_rate: 2.5000e-04\n",
      "Epoch 33/200\n",
      "\u001b[1m2597/2597\u001b[0m \u001b[32m━━━━━━━━━━━━━━━━━━━━\u001b[0m\u001b[37m\u001b[0m \u001b[1m14s\u001b[0m 5ms/step - loss: 0.0051 - val_loss: 0.0042 - learning_rate: 2.5000e-04\n",
      "Epoch 34/200\n",
      "\u001b[1m2597/2597\u001b[0m \u001b[32m━━━━━━━━━━━━━━━━━━━━\u001b[0m\u001b[37m\u001b[0m \u001b[1m14s\u001b[0m 5ms/step - loss: 0.0051 - val_loss: 0.0042 - learning_rate: 2.5000e-04\n",
      "Epoch 35/200\n",
      "\u001b[1m2597/2597\u001b[0m \u001b[32m━━━━━━━━━━━━━━━━━━━━\u001b[0m\u001b[37m\u001b[0m \u001b[1m14s\u001b[0m 5ms/step - loss: 0.0051 - val_loss: 0.0042 - learning_rate: 2.5000e-04\n",
      "Epoch 36/200\n",
      "\u001b[1m2597/2597\u001b[0m \u001b[32m━━━━━━━━━━━━━━━━━━━━\u001b[0m\u001b[37m\u001b[0m \u001b[1m14s\u001b[0m 5ms/step - loss: 0.0051 - val_loss: 0.0042 - learning_rate: 2.5000e-04\n",
      "Epoch 37/200\n",
      "\u001b[1m2597/2597\u001b[0m \u001b[32m━━━━━━━━━━━━━━━━━━━━\u001b[0m\u001b[37m\u001b[0m \u001b[1m14s\u001b[0m 5ms/step - loss: 0.0051 - val_loss: 0.0042 - learning_rate: 2.5000e-04\n",
      "Epoch 38/200\n",
      "\u001b[1m2597/2597\u001b[0m \u001b[32m━━━━━━━━━━━━━━━━━━━━\u001b[0m\u001b[37m\u001b[0m \u001b[1m14s\u001b[0m 5ms/step - loss: 0.0051 - val_loss: 0.0043 - learning_rate: 2.5000e-04\n",
      "Epoch 39/200\n",
      "\u001b[1m2597/2597\u001b[0m \u001b[32m━━━━━━━━━━━━━━━━━━━━\u001b[0m\u001b[37m\u001b[0m \u001b[1m14s\u001b[0m 5ms/step - loss: 0.0051 - val_loss: 0.0042 - learning_rate: 2.5000e-04\n",
      "Epoch 40/200\n",
      "\u001b[1m2597/2597\u001b[0m \u001b[32m━━━━━━━━━━━━━━━━━━━━\u001b[0m\u001b[37m\u001b[0m \u001b[1m14s\u001b[0m 5ms/step - loss: 0.0051 - val_loss: 0.0041 - learning_rate: 2.5000e-04\n",
      "Epoch 41/200\n",
      "\u001b[1m2587/2597\u001b[0m \u001b[32m━━━━━━━━━━━━━━━━━━━\u001b[0m\u001b[37m━\u001b[0m \u001b[1m0s\u001b[0m 5ms/step - loss: 0.0051\n",
      "Epoch 41: ReduceLROnPlateau reducing learning rate to 0.0001250000059371814.\n",
      "\u001b[1m2597/2597\u001b[0m \u001b[32m━━━━━━━━━━━━━━━━━━━━\u001b[0m\u001b[37m\u001b[0m \u001b[1m14s\u001b[0m 5ms/step - loss: 0.0051 - val_loss: 0.0042 - learning_rate: 2.5000e-04\n",
      "Epoch 42/200\n",
      "\u001b[1m2597/2597\u001b[0m \u001b[32m━━━━━━━━━━━━━━━━━━━━\u001b[0m\u001b[37m\u001b[0m \u001b[1m14s\u001b[0m 5ms/step - loss: 0.0051 - val_loss: 0.0041 - learning_rate: 1.2500e-04\n",
      "Epoch 43/200\n",
      "\u001b[1m2597/2597\u001b[0m \u001b[32m━━━━━━━━━━━━━━━━━━━━\u001b[0m\u001b[37m\u001b[0m \u001b[1m14s\u001b[0m 5ms/step - loss: 0.0051 - val_loss: 0.0041 - learning_rate: 1.2500e-04\n",
      "Epoch 44/200\n",
      "\u001b[1m2597/2597\u001b[0m \u001b[32m━━━━━━━━━━━━━━━━━━━━\u001b[0m\u001b[37m\u001b[0m \u001b[1m14s\u001b[0m 5ms/step - loss: 0.0051 - val_loss: 0.0041 - learning_rate: 1.2500e-04\n",
      "Epoch 45/200\n",
      "\u001b[1m2597/2597\u001b[0m \u001b[32m━━━━━━━━━━━━━━━━━━━━\u001b[0m\u001b[37m\u001b[0m \u001b[1m14s\u001b[0m 5ms/step - loss: 0.0050 - val_loss: 0.0041 - learning_rate: 1.2500e-04\n",
      "Epoch 46/200\n",
      "\u001b[1m2597/2597\u001b[0m \u001b[32m━━━━━━━━━━━━━━━━━━━━\u001b[0m\u001b[37m\u001b[0m \u001b[1m14s\u001b[0m 5ms/step - loss: 0.0051 - val_loss: 0.0041 - learning_rate: 1.2500e-04\n",
      "Epoch 47/200\n",
      "\u001b[1m2597/2597\u001b[0m \u001b[32m━━━━━━━━━━━━━━━━━━━━\u001b[0m\u001b[37m\u001b[0m \u001b[1m14s\u001b[0m 5ms/step - loss: 0.0050 - val_loss: 0.0041 - learning_rate: 1.2500e-04\n",
      "Epoch 48/200\n",
      "\u001b[1m2597/2597\u001b[0m \u001b[32m━━━━━━━━━━━━━━━━━━━━\u001b[0m\u001b[37m\u001b[0m \u001b[1m14s\u001b[0m 5ms/step - loss: 0.0051 - val_loss: 0.0042 - learning_rate: 1.2500e-04\n",
      "Epoch 49/200\n",
      "\u001b[1m2597/2597\u001b[0m \u001b[32m━━━━━━━━━━━━━━━━━━━━\u001b[0m\u001b[37m\u001b[0m \u001b[1m14s\u001b[0m 5ms/step - loss: 0.0050 - val_loss: 0.0042 - learning_rate: 1.2500e-04\n",
      "Epoch 50/200\n",
      "\u001b[1m2597/2597\u001b[0m \u001b[32m━━━━━━━━━━━━━━━━━━━━\u001b[0m\u001b[37m\u001b[0m \u001b[1m14s\u001b[0m 5ms/step - loss: 0.0051 - val_loss: 0.0042 - learning_rate: 1.2500e-04\n",
      "Epoch 51/200\n",
      "\u001b[1m2591/2597\u001b[0m \u001b[32m━━━━━━━━━━━━━━━━━━━\u001b[0m\u001b[37m━\u001b[0m \u001b[1m0s\u001b[0m 5ms/step - loss: 0.0050\n",
      "Epoch 51: ReduceLROnPlateau reducing learning rate to 6.25000029685907e-05.\n",
      "\u001b[1m2597/2597\u001b[0m \u001b[32m━━━━━━━━━━━━━━━━━━━━\u001b[0m\u001b[37m\u001b[0m \u001b[1m14s\u001b[0m 5ms/step - loss: 0.0050 - val_loss: 0.0041 - learning_rate: 1.2500e-04\n",
      "Epoch 52/200\n",
      "\u001b[1m2597/2597\u001b[0m \u001b[32m━━━━━━━━━━━━━━━━━━━━\u001b[0m\u001b[37m\u001b[0m \u001b[1m14s\u001b[0m 5ms/step - loss: 0.0050 - val_loss: 0.0041 - learning_rate: 6.2500e-05\n",
      "Epoch 53/200\n",
      "\u001b[1m2597/2597\u001b[0m \u001b[32m━━━━━━━━━━━━━━━━━━━━\u001b[0m\u001b[37m\u001b[0m \u001b[1m14s\u001b[0m 5ms/step - loss: 0.0050 - val_loss: 0.0041 - learning_rate: 6.2500e-05\n",
      "Epoch 54/200\n",
      "\u001b[1m2597/2597\u001b[0m \u001b[32m━━━━━━━━━━━━━━━━━━━━\u001b[0m\u001b[37m\u001b[0m \u001b[1m14s\u001b[0m 5ms/step - loss: 0.0050 - val_loss: 0.0041 - learning_rate: 6.2500e-05\n",
      "Epoch 55/200\n",
      "\u001b[1m2597/2597\u001b[0m \u001b[32m━━━━━━━━━━━━━━━━━━━━\u001b[0m\u001b[37m\u001b[0m \u001b[1m14s\u001b[0m 5ms/step - loss: 0.0051 - val_loss: 0.0041 - learning_rate: 6.2500e-05\n",
      "Epoch 56/200\n",
      "\u001b[1m2597/2597\u001b[0m \u001b[32m━━━━━━━━━━━━━━━━━━━━\u001b[0m\u001b[37m\u001b[0m \u001b[1m14s\u001b[0m 5ms/step - loss: 0.0050 - val_loss: 0.0041 - learning_rate: 6.2500e-05\n",
      "Epoch 57/200\n",
      "\u001b[1m2597/2597\u001b[0m \u001b[32m━━━━━━━━━━━━━━━━━━━━\u001b[0m\u001b[37m\u001b[0m \u001b[1m14s\u001b[0m 5ms/step - loss: 0.0050 - val_loss: 0.0041 - learning_rate: 6.2500e-05\n",
      "Epoch 58/200\n",
      "\u001b[1m2597/2597\u001b[0m \u001b[32m━━━━━━━━━━━━━━━━━━━━\u001b[0m\u001b[37m\u001b[0m \u001b[1m14s\u001b[0m 5ms/step - loss: 0.0050 - val_loss: 0.0041 - learning_rate: 6.2500e-05\n",
      "Epoch 59/200\n",
      "\u001b[1m2597/2597\u001b[0m \u001b[32m━━━━━━━━━━━━━━━━━━━━\u001b[0m\u001b[37m\u001b[0m \u001b[1m14s\u001b[0m 5ms/step - loss: 0.0050 - val_loss: 0.0041 - learning_rate: 6.2500e-05\n",
      "Epoch 60/200\n",
      "\u001b[1m2597/2597\u001b[0m \u001b[32m━━━━━━━━━━━━━━━━━━━━\u001b[0m\u001b[37m\u001b[0m \u001b[1m14s\u001b[0m 5ms/step - loss: 0.0050 - val_loss: 0.0041 - learning_rate: 6.2500e-05\n",
      "Epoch 61/200\n",
      "\u001b[1m2587/2597\u001b[0m \u001b[32m━━━━━━━━━━━━━━━━━━━\u001b[0m\u001b[37m━\u001b[0m \u001b[1m0s\u001b[0m 5ms/step - loss: 0.0051\n",
      "Epoch 61: ReduceLROnPlateau reducing learning rate to 3.125000148429535e-05.\n",
      "\u001b[1m2597/2597\u001b[0m \u001b[32m━━━━━━━━━━━━━━━━━━━━\u001b[0m\u001b[37m\u001b[0m \u001b[1m14s\u001b[0m 5ms/step - loss: 0.0051 - val_loss: 0.0041 - learning_rate: 6.2500e-05\n",
      "Epoch 62/200\n",
      "\u001b[1m2597/2597\u001b[0m \u001b[32m━━━━━━━━━━━━━━━━━━━━\u001b[0m\u001b[37m\u001b[0m \u001b[1m14s\u001b[0m 5ms/step - loss: 0.0050 - val_loss: 0.0041 - learning_rate: 3.1250e-05\n",
      "Epoch 63/200\n",
      "\u001b[1m2597/2597\u001b[0m \u001b[32m━━━━━━━━━━━━━━━━━━━━\u001b[0m\u001b[37m\u001b[0m \u001b[1m14s\u001b[0m 5ms/step - loss: 0.0050 - val_loss: 0.0041 - learning_rate: 3.1250e-05\n",
      "Epoch 64/200\n",
      "\u001b[1m2597/2597\u001b[0m \u001b[32m━━━━━━━━━━━━━━━━━━━━\u001b[0m\u001b[37m\u001b[0m \u001b[1m14s\u001b[0m 5ms/step - loss: 0.0050 - val_loss: 0.0041 - learning_rate: 3.1250e-05\n",
      "Epoch 65/200\n",
      "\u001b[1m2597/2597\u001b[0m \u001b[32m━━━━━━━━━━━━━━━━━━━━\u001b[0m\u001b[37m\u001b[0m \u001b[1m14s\u001b[0m 5ms/step - loss: 0.0050 - val_loss: 0.0041 - learning_rate: 3.1250e-05\n",
      "Epoch 66/200\n",
      "\u001b[1m2597/2597\u001b[0m \u001b[32m━━━━━━━━━━━━━━━━━━━━\u001b[0m\u001b[37m\u001b[0m \u001b[1m14s\u001b[0m 5ms/step - loss: 0.0050 - val_loss: 0.0041 - learning_rate: 3.1250e-05\n",
      "Epoch 67/200\n",
      "\u001b[1m2597/2597\u001b[0m \u001b[32m━━━━━━━━━━━━━━━━━━━━\u001b[0m\u001b[37m\u001b[0m \u001b[1m14s\u001b[0m 5ms/step - loss: 0.0050 - val_loss: 0.0041 - learning_rate: 3.1250e-05\n",
      "Epoch 68/200\n",
      "\u001b[1m2597/2597\u001b[0m \u001b[32m━━━━━━━━━━━━━━━━━━━━\u001b[0m\u001b[37m\u001b[0m \u001b[1m14s\u001b[0m 5ms/step - loss: 0.0050 - val_loss: 0.0041 - learning_rate: 3.1250e-05\n",
      "Epoch 69/200\n",
      "\u001b[1m2597/2597\u001b[0m \u001b[32m━━━━━━━━━━━━━━━━━━━━\u001b[0m\u001b[37m\u001b[0m \u001b[1m14s\u001b[0m 5ms/step - loss: 0.0050 - val_loss: 0.0041 - learning_rate: 3.1250e-05\n",
      "Epoch 70/200\n",
      "\u001b[1m2597/2597\u001b[0m \u001b[32m━━━━━━━━━━━━━━━━━━━━\u001b[0m\u001b[37m\u001b[0m \u001b[1m14s\u001b[0m 5ms/step - loss: 0.0050 - val_loss: 0.0041 - learning_rate: 3.1250e-05\n",
      "Epoch 71/200\n",
      "\u001b[1m2595/2597\u001b[0m \u001b[32m━━━━━━━━━━━━━━━━━━━\u001b[0m\u001b[37m━\u001b[0m \u001b[1m0s\u001b[0m 5ms/step - loss: 0.0050\n",
      "Epoch 71: ReduceLROnPlateau reducing learning rate to 1.5625000742147677e-05.\n",
      "\u001b[1m2597/2597\u001b[0m \u001b[32m━━━━━━━━━━━━━━━━━━━━\u001b[0m\u001b[37m\u001b[0m \u001b[1m14s\u001b[0m 5ms/step - loss: 0.0050 - val_loss: 0.0041 - learning_rate: 3.1250e-05\n",
      "Epoch 72/200\n",
      "\u001b[1m2597/2597\u001b[0m \u001b[32m━━━━━━━━━━━━━━━━━━━━\u001b[0m\u001b[37m\u001b[0m \u001b[1m14s\u001b[0m 5ms/step - loss: 0.0050 - val_loss: 0.0041 - learning_rate: 1.5625e-05\n",
      "Epoch 73/200\n",
      "\u001b[1m2597/2597\u001b[0m \u001b[32m━━━━━━━━━━━━━━━━━━━━\u001b[0m\u001b[37m\u001b[0m \u001b[1m14s\u001b[0m 5ms/step - loss: 0.0050 - val_loss: 0.0041 - learning_rate: 1.5625e-05\n",
      "Epoch 74/200\n",
      "\u001b[1m2597/2597\u001b[0m \u001b[32m━━━━━━━━━━━━━━━━━━━━\u001b[0m\u001b[37m\u001b[0m \u001b[1m14s\u001b[0m 5ms/step - loss: 0.0050 - val_loss: 0.0041 - learning_rate: 1.5625e-05\n",
      "Epoch 75/200\n",
      "\u001b[1m2597/2597\u001b[0m \u001b[32m━━━━━━━━━━━━━━━━━━━━\u001b[0m\u001b[37m\u001b[0m \u001b[1m14s\u001b[0m 5ms/step - loss: 0.0050 - val_loss: 0.0041 - learning_rate: 1.5625e-05\n",
      "Epoch 76/200\n",
      "\u001b[1m2597/2597\u001b[0m \u001b[32m━━━━━━━━━━━━━━━━━━━━\u001b[0m\u001b[37m\u001b[0m \u001b[1m14s\u001b[0m 5ms/step - loss: 0.0050 - val_loss: 0.0041 - learning_rate: 1.5625e-05\n",
      "Epoch 77/200\n",
      "\u001b[1m2597/2597\u001b[0m \u001b[32m━━━━━━━━━━━━━━━━━━━━\u001b[0m\u001b[37m\u001b[0m \u001b[1m14s\u001b[0m 5ms/step - loss: 0.0050 - val_loss: 0.0041 - learning_rate: 1.5625e-05\n",
      "Epoch 78/200\n",
      "\u001b[1m2597/2597\u001b[0m \u001b[32m━━━━━━━━━━━━━━━━━━━━\u001b[0m\u001b[37m\u001b[0m \u001b[1m14s\u001b[0m 5ms/step - loss: 0.0050 - val_loss: 0.0041 - learning_rate: 1.5625e-05\n",
      "Epoch 79/200\n",
      "\u001b[1m2597/2597\u001b[0m \u001b[32m━━━━━━━━━━━━━━━━━━━━\u001b[0m\u001b[37m\u001b[0m \u001b[1m14s\u001b[0m 5ms/step - loss: 0.0050 - val_loss: 0.0041 - learning_rate: 1.5625e-05\n",
      "Epoch 80/200\n",
      "\u001b[1m2597/2597\u001b[0m \u001b[32m━━━━━━━━━━━━━━━━━━━━\u001b[0m\u001b[37m\u001b[0m \u001b[1m14s\u001b[0m 5ms/step - loss: 0.0050 - val_loss: 0.0041 - learning_rate: 1.5625e-05\n",
      "Epoch 81/200\n",
      "\u001b[1m2587/2597\u001b[0m \u001b[32m━━━━━━━━━━━━━━━━━━━\u001b[0m\u001b[37m━\u001b[0m \u001b[1m0s\u001b[0m 5ms/step - loss: 0.0050\n",
      "Epoch 81: ReduceLROnPlateau reducing learning rate to 7.812500371073838e-06.\n",
      "\u001b[1m2597/2597\u001b[0m \u001b[32m━━━━━━━━━━━━━━━━━━━━\u001b[0m\u001b[37m\u001b[0m \u001b[1m14s\u001b[0m 5ms/step - loss: 0.0050 - val_loss: 0.0041 - learning_rate: 1.5625e-05\n",
      "Epoch 82/200\n",
      "\u001b[1m2597/2597\u001b[0m \u001b[32m━━━━━━━━━━━━━━━━━━━━\u001b[0m\u001b[37m\u001b[0m \u001b[1m14s\u001b[0m 5ms/step - loss: 0.0049 - val_loss: 0.0041 - learning_rate: 7.8125e-06\n",
      "Epoch 83/200\n",
      "\u001b[1m2597/2597\u001b[0m \u001b[32m━━━━━━━━━━━━━━━━━━━━\u001b[0m\u001b[37m\u001b[0m \u001b[1m14s\u001b[0m 5ms/step - loss: 0.0050 - val_loss: 0.0041 - learning_rate: 7.8125e-06\n",
      "Epoch 84/200\n",
      "\u001b[1m2597/2597\u001b[0m \u001b[32m━━━━━━━━━━━━━━━━━━━━\u001b[0m\u001b[37m\u001b[0m \u001b[1m14s\u001b[0m 5ms/step - loss: 0.0050 - val_loss: 0.0041 - learning_rate: 7.8125e-06\n",
      "Epoch 85/200\n",
      "\u001b[1m2597/2597\u001b[0m \u001b[32m━━━━━━━━━━━━━━━━━━━━\u001b[0m\u001b[37m\u001b[0m \u001b[1m14s\u001b[0m 5ms/step - loss: 0.0050 - val_loss: 0.0041 - learning_rate: 7.8125e-06\n",
      "Epoch 86/200\n",
      "\u001b[1m2597/2597\u001b[0m \u001b[32m━━━━━━━━━━━━━━━━━━━━\u001b[0m\u001b[37m\u001b[0m \u001b[1m14s\u001b[0m 5ms/step - loss: 0.0050 - val_loss: 0.0041 - learning_rate: 7.8125e-06\n",
      "Epoch 87/200\n",
      "\u001b[1m2597/2597\u001b[0m \u001b[32m━━━━━━━━━━━━━━━━━━━━\u001b[0m\u001b[37m\u001b[0m \u001b[1m14s\u001b[0m 5ms/step - loss: 0.0050 - val_loss: 0.0041 - learning_rate: 7.8125e-06\n",
      "Epoch 88/200\n",
      "\u001b[1m2597/2597\u001b[0m \u001b[32m━━━━━━━━━━━━━━━━━━━━\u001b[0m\u001b[37m\u001b[0m \u001b[1m14s\u001b[0m 5ms/step - loss: 0.0050 - val_loss: 0.0041 - learning_rate: 7.8125e-06\n",
      "Epoch 89/200\n",
      "\u001b[1m2597/2597\u001b[0m \u001b[32m━━━━━━━━━━━━━━━━━━━━\u001b[0m\u001b[37m\u001b[0m \u001b[1m14s\u001b[0m 5ms/step - loss: 0.0050 - val_loss: 0.0041 - learning_rate: 7.8125e-06\n",
      "Epoch 90/200\n",
      "\u001b[1m2597/2597\u001b[0m \u001b[32m━━━━━━━━━━━━━━━━━━━━\u001b[0m\u001b[37m\u001b[0m \u001b[1m14s\u001b[0m 5ms/step - loss: 0.0050 - val_loss: 0.0041 - learning_rate: 7.8125e-06\n",
      "Epoch 91/200\n",
      "\u001b[1m2589/2597\u001b[0m \u001b[32m━━━━━━━━━━━━━━━━━━━\u001b[0m\u001b[37m━\u001b[0m \u001b[1m0s\u001b[0m 5ms/step - loss: 0.0050\n",
      "Epoch 91: ReduceLROnPlateau reducing learning rate to 3.906250185536919e-06.\n",
      "\u001b[1m2597/2597\u001b[0m \u001b[32m━━━━━━━━━━━━━━━━━━━━\u001b[0m\u001b[37m\u001b[0m \u001b[1m14s\u001b[0m 5ms/step - loss: 0.0050 - val_loss: 0.0041 - learning_rate: 7.8125e-06\n",
      "Epoch 92/200\n",
      "\u001b[1m2597/2597\u001b[0m \u001b[32m━━━━━━━━━━━━━━━━━━━━\u001b[0m\u001b[37m\u001b[0m \u001b[1m14s\u001b[0m 5ms/step - loss: 0.0050 - val_loss: 0.0041 - learning_rate: 3.9063e-06\n",
      "Epoch 93/200\n",
      "\u001b[1m2597/2597\u001b[0m \u001b[32m━━━━━━━━━━━━━━━━━━━━\u001b[0m\u001b[37m\u001b[0m \u001b[1m14s\u001b[0m 5ms/step - loss: 0.0050 - val_loss: 0.0041 - learning_rate: 3.9063e-06\n",
      "Epoch 94/200\n",
      "\u001b[1m2597/2597\u001b[0m \u001b[32m━━━━━━━━━━━━━━━━━━━━\u001b[0m\u001b[37m\u001b[0m \u001b[1m14s\u001b[0m 5ms/step - loss: 0.0050 - val_loss: 0.0041 - learning_rate: 3.9063e-06\n",
      "Epoch 95/200\n",
      "\u001b[1m2597/2597\u001b[0m \u001b[32m━━━━━━━━━━━━━━━━━━━━\u001b[0m\u001b[37m\u001b[0m \u001b[1m14s\u001b[0m 5ms/step - loss: 0.0050 - val_loss: 0.0041 - learning_rate: 3.9063e-06\n",
      "Epoch 96/200\n",
      "\u001b[1m2597/2597\u001b[0m \u001b[32m━━━━━━━━━━━━━━━━━━━━\u001b[0m\u001b[37m\u001b[0m \u001b[1m14s\u001b[0m 5ms/step - loss: 0.0050 - val_loss: 0.0041 - learning_rate: 3.9063e-06\n",
      "Epoch 97/200\n",
      "\u001b[1m2597/2597\u001b[0m \u001b[32m━━━━━━━━━━━━━━━━━━━━\u001b[0m\u001b[37m\u001b[0m \u001b[1m14s\u001b[0m 5ms/step - loss: 0.0050 - val_loss: 0.0041 - learning_rate: 3.9063e-06\n",
      "Epoch 98/200\n",
      "\u001b[1m2597/2597\u001b[0m \u001b[32m━━━━━━━━━━━━━━━━━━━━\u001b[0m\u001b[37m\u001b[0m \u001b[1m14s\u001b[0m 5ms/step - loss: 0.0050 - val_loss: 0.0041 - learning_rate: 3.9063e-06\n",
      "Epoch 99/200\n",
      "\u001b[1m2597/2597\u001b[0m \u001b[32m━━━━━━━━━━━━━━━━━━━━\u001b[0m\u001b[37m\u001b[0m \u001b[1m14s\u001b[0m 5ms/step - loss: 0.0050 - val_loss: 0.0041 - learning_rate: 3.9063e-06\n",
      "Epoch 100/200\n",
      "\u001b[1m2597/2597\u001b[0m \u001b[32m━━━━━━━━━━━━━━━━━━━━\u001b[0m\u001b[37m\u001b[0m \u001b[1m14s\u001b[0m 5ms/step - loss: 0.0050 - val_loss: 0.0041 - learning_rate: 3.9063e-06\n",
      "Epoch 101/200\n",
      "\u001b[1m2597/2597\u001b[0m \u001b[32m━━━━━━━━━━━━━━━━━━━━\u001b[0m\u001b[37m\u001b[0m \u001b[1m0s\u001b[0m 5ms/step - loss: 0.0050\n",
      "Epoch 101: ReduceLROnPlateau reducing learning rate to 1.9531250927684596e-06.\n",
      "\u001b[1m2597/2597\u001b[0m \u001b[32m━━━━━━━━━━━━━━━━━━━━\u001b[0m\u001b[37m\u001b[0m \u001b[1m14s\u001b[0m 5ms/step - loss: 0.0050 - val_loss: 0.0041 - learning_rate: 3.9063e-06\n",
      "Epoch 102/200\n",
      "\u001b[1m2597/2597\u001b[0m \u001b[32m━━━━━━━━━━━━━━━━━━━━\u001b[0m\u001b[37m\u001b[0m \u001b[1m14s\u001b[0m 5ms/step - loss: 0.0050 - val_loss: 0.0041 - learning_rate: 1.9531e-06\n",
      "Epoch 103/200\n",
      "\u001b[1m2597/2597\u001b[0m \u001b[32m━━━━━━━━━━━━━━━━━━━━\u001b[0m\u001b[37m\u001b[0m \u001b[1m14s\u001b[0m 5ms/step - loss: 0.0050 - val_loss: 0.0041 - learning_rate: 1.9531e-06\n",
      "Epoch 104/200\n",
      "\u001b[1m2597/2597\u001b[0m \u001b[32m━━━━━━━━━━━━━━━━━━━━\u001b[0m\u001b[37m\u001b[0m \u001b[1m14s\u001b[0m 5ms/step - loss: 0.0050 - val_loss: 0.0041 - learning_rate: 1.9531e-06\n",
      "Epoch 105/200\n",
      "\u001b[1m2597/2597\u001b[0m \u001b[32m━━━━━━━━━━━━━━━━━━━━\u001b[0m\u001b[37m\u001b[0m \u001b[1m14s\u001b[0m 5ms/step - loss: 0.0050 - val_loss: 0.0041 - learning_rate: 1.9531e-06\n",
      "Epoch 106/200\n",
      "\u001b[1m2597/2597\u001b[0m \u001b[32m━━━━━━━━━━━━━━━━━━━━\u001b[0m\u001b[37m\u001b[0m \u001b[1m14s\u001b[0m 5ms/step - loss: 0.0050 - val_loss: 0.0041 - learning_rate: 1.9531e-06\n",
      "Epoch 107/200\n",
      "\u001b[1m2597/2597\u001b[0m \u001b[32m━━━━━━━━━━━━━━━━━━━━\u001b[0m\u001b[37m\u001b[0m \u001b[1m14s\u001b[0m 5ms/step - loss: 0.0050 - val_loss: 0.0041 - learning_rate: 1.9531e-06\n",
      "Epoch 108/200\n",
      "\u001b[1m2597/2597\u001b[0m \u001b[32m━━━━━━━━━━━━━━━━━━━━\u001b[0m\u001b[37m\u001b[0m \u001b[1m14s\u001b[0m 5ms/step - loss: 0.0050 - val_loss: 0.0041 - learning_rate: 1.9531e-06\n",
      "Epoch 109/200\n",
      "\u001b[1m2597/2597\u001b[0m \u001b[32m━━━━━━━━━━━━━━━━━━━━\u001b[0m\u001b[37m\u001b[0m \u001b[1m14s\u001b[0m 5ms/step - loss: 0.0050 - val_loss: 0.0041 - learning_rate: 1.9531e-06\n",
      "Epoch 110/200\n",
      "\u001b[1m2597/2597\u001b[0m \u001b[32m━━━━━━━━━━━━━━━━━━━━\u001b[0m\u001b[37m\u001b[0m \u001b[1m14s\u001b[0m 5ms/step - loss: 0.0050 - val_loss: 0.0041 - learning_rate: 1.9531e-06\n"
     ]
    }
   ],
   "source": [
    "history = model.fit(\n",
    "    X_train, y_train,\n",
    "    epochs=200,\n",
    "    batch_size=128,\n",
    "    validation_split=0.2,\n",
    "    callbacks=[\n",
    "        EarlyStopping(patience=25, restore_best_weights=True),\n",
    "        ReduceLROnPlateau(factor=0.5, patience=10, verbose=1)\n",
    "    ],\n",
    "    verbose=1\n",
    ")"
   ]
  },
  {
   "cell_type": "code",
   "execution_count": null,
   "id": "f7526f30-278d-414f-9d4f-25afb1da5518",
   "metadata": {},
   "outputs": [
    {
     "name": "stdout",
     "output_type": "stream",
     "text": [
      "\u001b[1m3246/3246\u001b[0m \u001b[32m━━━━━━━━━━━━━━━━━━━━\u001b[0m\u001b[37m\u001b[0m \u001b[1m3s\u001b[0m 1ms/step\n",
      "Test R²: 0.9870\n"
     ]
    }
   ],
   "source": [
    "def inverse_transform(scaler, data, target_index):\n",
    "    \n",
    "    data_flat = data.flatten() \n",
    "    \n",
    "    \n",
    "    dummy = np.zeros((len(data_flat), scaler.n_features_in_))\n",
    "    dummy[:, target_index] = data_flat\n",
    "    \n",
    "    return scaler.inverse_transform(dummy)[:, target_index]\n",
    "\n",
    "\n",
    "y_pred = model.predict(X_test)\n",
    "y_test_inv = inverse_transform(scaler, y_test.reshape(-1,1), target_index)  \n",
    "y_pred_inv = inverse_transform(scaler, y_pred, target_index)\n",
    "\n",
    "\n",
    "print(f\"Test R²: {r2_score(y_test_inv, y_pred_inv):.4f}\")"
   ]
  },
  {
   "cell_type": "code",
   "execution_count": 27,
   "id": "31163177-45c9-48c4-82fc-1865c9847e5d",
   "metadata": {},
   "outputs": [
    {
     "data": {
      "image/png": "[encoded data removed]",
      "text/plain": [
       "<Figure size 640x480 with 1 Axes>"
      ]
     },
     "metadata": {},
     "output_type": "display_data"
    }
   ],
   "source": [
    "import matplotlib.pyplot as plt\n",
    "\n",
    "plt.plot(history.history['loss'], label='Eğitim Kaybı')\n",
    "plt.plot(history.history['val_loss'], label='Doğrulama Kaybı')\n",
    "plt.title('Eğitim Sürecindeki Kayıp')\n",
    "plt.xlabel('Epoch')\n",
    "plt.ylabel('Kayıp (MSE)')\n",
    "plt.legend()\n",
    "plt.grid(True)\n",
    "plt.show()\n"
   ]
  },
  {
   "cell_type": "code",
   "execution_count": 28,
   "id": "43561cf6-4d05-40a5-81e4-3d001e2ddb67",
   "metadata": {},
   "outputs": [],
   "source": [
    "import json\n",
    "\n",
    "model_info = {\n",
    "    \"model_path\": \"hava_tahmin_modeli.keras\",\n",
    "    \"scaler_path\": \"robust_scaler.save\",\n",
    "    \"look_back\": look_back,\n",
    "    \"features\": features,\n",
    "    \"target\": target\n",
    "}\n",
    "\n",
    "with open('model_config.json', 'w') as f:\n",
    "    json.dump(model_info, f)"
   ]
  },
  {
   "cell_type": "code",
   "execution_count": null,
   "id": "42ea1109-f466-40ab-9f90-75443bf196c0",
   "metadata": {},
   "outputs": [],
   "source": [
    "model_json = model.to_json()\n",
    "with open(\"model_architecture.json\", \"w\") as json_file:\n",
    "    json_file.write(model_json)"
   ]
  },
  {
   "cell_type": "code",
   "execution_count": null,
   "id": "1f9fd515-6cb1-4092-bcef-c3eb3702b746",
   "metadata": {},
   "outputs": [],
   "source": [
    "from tensorflow.keras.models import load_model\n",
    "import joblib\n",
    "import json\n",
    "\n",
    "with open('model_config.json') as f:\n",
    "    config = json.load(f)\n",
    "\n",
    "model = load_model(config['model_path'])\n",
    "\n",
    "\n",
    "scaler = joblib.load(config['scaler_path'])\n",
    "\n",
    "\n",
    "def tahmin_yap(yeni_veri):\n",
    "\n",
    "    scaled_data = scaler.transform(yeni_veri)\n",
    "    \n",
    "\n",
    "    sequence = create_sequences(scaled_data, look_back=config['look_back'])\n",
    "    \n",
    "    \n",
    "    prediction = model.predict(sequence)\n",
    "    \n",
    "    \n",
    "    return inverse_transform(scaler, prediction, target_index)"
   ]
  }
 ],
 "metadata": {
  "kernelspec": {
   "display_name": "Python 3 (ipykernel)",
   "language": "python",
   "name": "python3"
  },
  "language_info": {
   "codemirror_mode": {
    "name": "ipython",
    "version": 3
   },
   "file_extension": ".py",
   "mimetype": "text/x-python",
   "name": "python",
   "nbconvert_exporter": "python",
   "pygments_lexer": "ipython3",
   "version": "3.9.20"
  }
 },
 "nbformat": 4,
 "nbformat_minor": 5
}
